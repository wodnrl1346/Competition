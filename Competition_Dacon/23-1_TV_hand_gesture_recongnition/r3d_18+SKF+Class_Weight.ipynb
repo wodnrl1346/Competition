{
 "cells": [
  {
   "cell_type": "markdown",
   "id": "0380b40a-f540-4225-8ffc-50059fd28a2c",
   "metadata": {},
   "source": [
    "## Train / Validation Split"
   ]
  },
  {
   "attachments": {
    "image.png": {
     "image/png": "[encoded data removed]"
    }
   },
   "cell_type": "markdown",
   "id": "42e36503",
   "metadata": {},
   "source": [
    "![image.png](attachment:image.png)"
   ]
  },
  {
   "cell_type": "code",
   "execution_count": null,
   "id": "e6264d0c-597c-42ac-9f3a-7189a5883028",
   "metadata": {},
   "outputs": [],
   "source": [
    "# Stratified K-Folds cross-validator\n",
    "from sklearn.model_selection import StratifiedKFold\n",
    "# StratifiedKFold(n_splits, shuffle, random_state)\n",
    "skf = StratifiedKFold(n_splits=10, shuffle=True, random_state=CFG['SEED'])  # fold가 10개 만들어진다.\n",
    "\n",
    "# train_index를 SKF로 검증하여 한 fold에 특정 val_index가 몰리지 않도록 한다.\n",
    "# df를 skf.split()하면 'fold'열이 추가된다(초기값 0)\n",
    "for n, (train_index, val_index) in enumerate(skf.split(df, df['label'])):   \n",
    "    '''\n",
    "    df에서 val_index의 fold 값을 해당 fold index로 대체한다 \n",
    "    -> SKF가 끝나면 각 train_index가 몇 번째 fold에서 val_index로 선정되었는지 알 수 있다. \n",
    "    '''\n",
    "    df.loc[val_index, 'fold'] = int(n)  \n",
    "df['fold'] = df['fold'].astype(int)     # dataframe 내의 type 전체를 int로 바꾼다.\n",
    "'''\n",
    "\n",
    ".reset_index(drop=True): 해당 열을 버린다.\n",
    "\n",
    "df['fold'] == 0: train_index\n",
    "df['fold'] != 0: val_index\n",
    "'''\n",
    "train = df[df['fold'] != 0].reset_index(drop=True)\n",
    "val = df[df['fold'] == 0].reset_index(drop=True)"
   ]
  },
  {
   "attachments": {},
   "cell_type": "markdown",
   "id": "7ad1d666",
   "metadata": {},
   "source": [
    "## Class Weights"
   ]
  },
  {
   "cell_type": "code",
   "execution_count": null,
   "id": "7ec5a42b",
   "metadata": {},
   "outputs": [],
   "source": [
    "labels = []\n",
    "for i in df['label']:\n",
    "    labels.append(i)\n",
    "labels.sort()   # label을 오름 차순 정렬\n",
    "\n",
    "\n",
    "'''\n",
    "# 각 class를 빈도수에 따라 다른 weight를 할당한다.\n",
    "\n",
    "# 빈도수가 큰 class에 weight를 적게 할당한다.\n",
    "# 빈도수가 작은 class에 weight를 크게 할당한다.\n",
    "\n",
    "compute_class_weight(class_weight, classes, y)\n",
    "class_weight: balanced -> n_samples/(n_classes * np.bincount(y))\n",
    "'''\n",
    "\n",
    "# np.unique(list/numpy array) -> 1차원 shape로 변환하고, 정렬을 진행한 결과를 반환한다.\n",
    "# np.bincount() -> array 내에서의 각 값의 빈도수를 반환한다.\n",
    "\n",
    "from sklearn.utils.class_weight import compute_class_weight\n",
    "class_weights = compute_class_weight(class_weight = \"balanced\", classes=np.unique(labels), y=labels)\n",
    "class_weights = torch.FloatTensor(class_weights).to(device)"
   ]
  },
  {
   "attachments": {},
   "cell_type": "markdown",
   "id": "39962463-032f-490a-a76d-c03991795f38",
   "metadata": {},
   "source": [
    "# Model Define(first method)\n",
    "class model 내에서 backbone 선언과 feature extraction을 한번에 수행"
   ]
  },
  {
   "cell_type": "code",
   "execution_count": null,
   "id": "3664c4d0-f1f2-4971-9090-4d6ee66309ae",
   "metadata": {},
   "outputs": [],
   "source": [
    "from torchvision.models.video import r3d_18\n",
    "\n",
    "class BaseModel(nn.Module):\n",
    "    def __init__(self, num_classes=5):\n",
    "        super(BaseModel, self).__init__()\n",
    "        self.model1 = r3d_18(weights='KINETICS400_V1')\n",
    "        self.feature_extractor = nn.Sequential(\n",
    "            '''\n",
    "            KINETICS400 dataset은 400개의 클래스를 가지므로\n",
    "            KINETICS400 dataset으로 pre-trained 되어 있는 3d resnet의\n",
    "            output feature 수는 400이다.\n",
    "            ''' \n",
    "            nn.Linear(400, 200),    \n",
    "            nn.ReLU(),\n",
    "            nn.Linear(200, num_classes)\n",
    "        )\n",
    "\n",
    "    def forward(self, x):\n",
    "        batch_size = x.size(0)\n",
    "        x = self.model1(x)\n",
    "        x = self.feature_extractor(x)\n",
    "        return x"
   ]
  },
  {
   "attachments": {},
   "cell_type": "markdown",
   "id": "ef5477d1",
   "metadata": {},
   "source": [
    "# Model Define(second method)\n",
    "model을 load한 후, 추가로 feature extraction"
   ]
  },
  {
   "cell_type": "code",
   "execution_count": null,
   "id": "a341dbe7",
   "metadata": {},
   "outputs": [],
   "source": [
    "'''\n",
    "import torch.vision as models\n",
    "model = models.video.r3d_18(pretrained=bool)\n",
    "num_ftrs = model_ft.fc.in_features  # model의 output feature 수\n",
    "model.fc = nn.Linear(num_ftrs, len (class_names))   # model의 fc layer를 원하는 layer로 변경\n",
    "'''\n",
    "model = models.video.r3d_18(pretrained=True) # https://pytorch.org/vision/0.8/models.html\n",
    "num_features = model.fc.in_features\n",
    "model.fc = nn.Linear(num_features, 5)"
   ]
  }
 ],
 "metadata": {
  "kernelspec": {
   "display_name": "Python 3",
   "language": "python",
   "name": "python3"
  },
  "language_info": {
   "codemirror_mode": {
    "name": "ipython",
    "version": 3
   },
   "file_extension": ".py",
   "mimetype": "text/x-python",
   "name": "python",
   "nbconvert_exporter": "python",
   "pygments_lexer": "ipython3",
   "version": "3.7.9"
  },
  "vscode": {
   "interpreter": {
    "hash": "35502451668c3ac2340521757113e29c80834d93306857eb7dde50459f615095"
   }
  }
 },
 "nbformat": 4,
 "nbformat_minor": 5
}
