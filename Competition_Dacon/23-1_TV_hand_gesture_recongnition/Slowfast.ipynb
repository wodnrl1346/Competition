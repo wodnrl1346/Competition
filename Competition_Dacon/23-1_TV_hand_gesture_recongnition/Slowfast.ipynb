{
 "cells": [
  {
   "cell_type": "code",
   "execution_count": null,
   "id": "fef10901",
   "metadata": {},
   "outputs": [],
   "source": [
    "import pandas as pd\n",
    "from typing import Dict\n",
    "import json\n",
    "import urllib\n",
    "from torchvision.transforms import Compose, Lambda\n",
    "from torchvision.transforms._transforms_video import (\n",
    "    CenterCropVideo,\n",
    "    NormalizeVideo,\n",
    ")\n",
    "from pytorchvideo.data.encoded_video import EncodedVideo\n",
    "from pytorchvideo.transforms import (\n",
    "    ApplyTransformToKey,\n",
    "    ShortSideScale,\n",
    "    UniformTemporalSubsample,\n",
    "    UniformCropVideo\n",
    ") \n",
    "from torch.utils.data import Dataset, DataLoader\n",
    "\n",
    "import torch\n",
    "import torch.nn as nn\n",
    "import torch.nn.functional as F\n",
    "from transformers.optimization import AdamW, get_cosine_schedule_with_warmup\n",
    "\n",
    "import random\n",
    "import os\n",
    "import numpy as np"
   ]
  },
  {
   "cell_type": "code",
   "execution_count": 2,
   "id": "cab08cfa",
   "metadata": {},
   "outputs": [],
   "source": [
    "def seed_everything(seed):\n",
    "    random.seed(seed)\n",
    "    os.environ['PYTHONHASHSEED'] = str(seed)\n",
    "    np.random.seed(seed)\n",
    "    torch.manual_seed(seed)\n",
    "    torch.cuda.manual_seed(seed)\n",
    "    torch.backends.cudnn.deterministic = True\n",
    "    torch.backends.cudnn.benchmark = True\n",
    "\n",
    "seed_everything(41) # Seed 고정"
   ]
  },
  {
   "cell_type": "code",
   "execution_count": 3,
   "id": "c300e84d",
   "metadata": {},
   "outputs": [],
   "source": [
    "# transform parameter\n",
    "side_size = 256\n",
    "mean = [0.45, 0.45, 0.45]\n",
    "std = [0.225, 0.225, 0.225]\n",
    "crop_size = 256\n",
    "num_frames = 32\n",
    "\n",
    "# slowpath split\n",
    "slowfast_alpha = 4  "
   ]
  },
  {
   "cell_type": "code",
   "execution_count": 4,
   "id": "79067297",
   "metadata": {},
   "outputs": [
    {
     "data": {
      "text/plain": [
       "device(type='cuda')"
      ]
     },
     "execution_count": 4,
     "metadata": {},
     "output_type": "execute_result"
    }
   ],
   "source": [
    "device = torch.device('cuda' if torch.cuda.is_available() else 'cpu')\n",
    "device"
   ]
  },
  {
   "cell_type": "code",
   "execution_count": null,
   "id": "db28538e",
   "metadata": {},
   "outputs": [],
   "source": [
    "'''\n",
    "github repository에 있는 model을 load한다.\n",
    "torch.hub.load(repo_or_dir, model)\n",
    "'''\n",
    "# https://pytorch.kr/hub/facebookresearch_pytorchvideo_slowfast/\n",
    "model = torch.hub.load('facebookresearch/pytorchvideo', 'slowfast_r50', pretrained=True)\n",
    "model.to(device)"
   ]
  },
  {
   "cell_type": "code",
   "execution_count": 6,
   "id": "9f5f3630",
   "metadata": {},
   "outputs": [],
   "source": [
    "class PackPathway(torch.nn.Module):\n",
    "    \"\"\"\n",
    "    Transform for converting video frames as a list of tensors. \n",
    "    \"\"\"\n",
    "    def __init__(self):\n",
    "        super().__init__()\n",
    "        \n",
    "    def forward(self, frames: torch.Tensor):\n",
    "        fast_pathway = frames   # high frame rate\n",
    "        # Perform temporal sampling from the fast pathway.\n",
    "        slow_pathway = torch.index_select(  # slow frame rate\n",
    "            frames,\n",
    "            1,\n",
    "            torch.linspace(\n",
    "                0, frames.shape[1] - 1, frames.shape[1] // slowfast_alpha\n",
    "            ).long(),\n",
    "        )\n",
    "        frame_list = [slow_pathway, fast_pathway]\n",
    "        return frame_list\n",
    "    "
   ]
  },
  {
   "cell_type": "code",
   "execution_count": 7,
   "id": "4dfa654b",
   "metadata": {},
   "outputs": [],
   "source": [
    "class CustomDataset(Dataset):\n",
    "    def __init__(self, file,device,transform=None, train=True):\n",
    "        super().__init__()\n",
    "        self.file = file\n",
    "        self.len = len(self.file)\n",
    "        self.device = device\n",
    "        self.transform = transform\n",
    "        self.train = train\n",
    "        self.datalayer = PackPathway()\n",
    "    \n",
    "    def __getitem__(self, idx):\n",
    "        if self.train :\n",
    "            path = self.file[idx][0]\n",
    "            label = self.file[idx][1]\n",
    "            '''\n",
    "            # 경로로 부터 video를 읽어온다(load)\n",
    "            video = EncodedVideo.from_path(path)\n",
    "\n",
    "            # start_sec부터 end_sec까지의 video를 get clip\n",
    "            video_data = video.get_clip(start_sec=start_time, end_sec=end_sec)\n",
    "            '''\n",
    "\n",
    "            video = EncodedVideo.from_path(path) \n",
    "            video_data = video.get_clip(start_sec=0, end_sec=1)\n",
    "            video_data = self.transform(video_data)\n",
    "            inputs = video_data[\"video\"]\n",
    "            inputs = [i.to(device) for i in inputs]\n",
    "\n",
    "            return inputs, label\n",
    "        else :\n",
    "            path = self.file[idx]\n",
    "            video = EncodedVideo.from_path(path)\n",
    "            video_data = video.get_clip(start_sec=0, end_sec=1)\n",
    "            video_data = self.transform(video_data)\n",
    "            inputs = video_data[\"video\"]\n",
    "            inputs = [i.to(device) for i in inputs]\n",
    "\n",
    "            return inputs\n",
    "            \n",
    "\n",
    "    def __len__(self):\n",
    "        return self.len"
   ]
  },
  {
   "cell_type": "code",
   "execution_count": 8,
   "id": "ead79798",
   "metadata": {},
   "outputs": [],
   "source": [
    "transform =  ApplyTransformToKey(\n",
    "    key=\"video\",\n",
    "    transform=Compose(\n",
    "        [\n",
    "            UniformTemporalSubsample(num_frames),\n",
    "            Lambda(lambda x: x/255.0),\n",
    "            NormalizeVideo(mean, std),\n",
    "            ShortSideScale(\n",
    "                size=side_size\n",
    "            ),\n",
    "            CenterCropVideo(crop_size),\n",
    "            PackPathway()\n",
    "        ]\n",
    "    ),\n",
    ")"
   ]
  },
  {
   "cell_type": "code",
   "execution_count": 9,
   "id": "6478a77f",
   "metadata": {},
   "outputs": [],
   "source": [
    "train = pd.read_csv('train.csv')\n",
    "test = pd.read_csv('test.csv')\n",
    "\n",
    "train_data = []\n",
    "test_data = []\n",
    "\n",
    "for vid, path, label in train.values :\n",
    "    train_data.append((path, label))\n",
    "\n",
    "for vid, path in test.values :\n",
    "    test_data.append(path)\n",
    "    \n",
    "train_dataset = CustomDataset(train_data,device,transform,train=True)\n",
    "train_loader = DataLoader(train_dataset, batch_size=4, shuffle=True)\n",
    "\n",
    "test_dataset = CustomDataset(test_data,device,transform,train=False)\n",
    "test_loader = DataLoader(test_dataset, batch_size=4, shuffle=False)"
   ]
  },
  {
   "cell_type": "code",
   "execution_count": 10,
   "id": "8cbd2f85",
   "metadata": {},
   "outputs": [
    {
     "name": "stderr",
     "output_type": "stream",
     "text": [
      "E:\\anaconda3\\envs\\dacon_torch\\lib\\site-packages\\transformers\\optimization.py:306: FutureWarning: This implementation of AdamW is deprecated and will be removed in a future version. Use the PyTorch implementation torch.optim.AdamW instead, or set `no_deprecation_warning=True` to disable this warning\n",
      "  warnings.warn(\n"
     ]
    }
   ],
   "source": [
    "param_optimizer = list(model.named_parameters())\n",
    "no_decay = ['bias', 'LayerNorm.bias', 'LayerNorm.weight']\n",
    "optimizer_grouped_parameters = [\n",
    "    {'params': [p for n, p in param_optimizer if not any(\n",
    "        nd in n for nd in no_decay)], 'weight_decay': 0.01},\n",
    "    {'params': [p for n, p in param_optimizer if any(\n",
    "        nd in n for nd in no_decay)], 'weight_decay': 0.0}\n",
    "]\n",
    "optimizer = AdamW(optimizer_grouped_parameters,\n",
    "                    lr=5e-5, correct_bias=False)\n",
    "criterion = nn.CrossEntropyLoss()"
   ]
  },
  {
   "cell_type": "code",
   "execution_count": null,
   "id": "2b0b590f",
   "metadata": {
    "scrolled": true
   },
   "outputs": [],
   "source": [
    "for epoch in range(1,101) :\n",
    "    total_loss = 0\n",
    "    model.train()\n",
    "    print(\"------------TRAIN------------\")\n",
    "    for i, d in enumerate(train_loader): \n",
    "        data, label = d\n",
    "        label = label.to(device)\n",
    "        optimizer.zero_grad()\n",
    "        \n",
    "        output = model(data)\n",
    "        loss = criterion(output,label)\n",
    "        \n",
    "        total_loss += loss.item()\n",
    "        loss.backward()\n",
    "        optimizer.step()\n",
    "        \n",
    "    print(\"EPOCH:\", epoch)\n",
    "    print(\"train_loss:{:.6f}\".format(total_loss/len(train_loader)))   \n",
    "\n"
   ]
  },
  {
   "cell_type": "code",
   "execution_count": 12,
   "id": "b9d4ba9e",
   "metadata": {},
   "outputs": [],
   "source": [
    "torch.save(model.state_dict(), 'set_seed_slowfast.pth')"
   ]
  },
  {
   "cell_type": "code",
   "execution_count": 13,
   "id": "fb28c344",
   "metadata": {},
   "outputs": [
    {
     "data": {
      "text/plain": [
       "<All keys matched successfully>"
      ]
     },
     "execution_count": 13,
     "metadata": {},
     "output_type": "execute_result"
    }
   ],
   "source": [
    "model.load_state_dict(torch.load('set_seed_slowfast.pth'))"
   ]
  },
  {
   "cell_type": "code",
   "execution_count": 15,
   "id": "fc180769",
   "metadata": {},
   "outputs": [],
   "source": [
    "total_pred = np.zeros(0)\n",
    "model.eval()\n",
    "with torch.no_grad():\n",
    "    for idx, d in enumerate(test_loader):\n",
    "        output = model(d)\n",
    "        \n",
    "        pred = output.argmax(dim=1, keepdim=True)\n",
    "        \n",
    "        total_pred = np.append(total_pred, pred.cpu().numpy())"
   ]
  },
  {
   "cell_type": "code",
   "execution_count": 16,
   "id": "adabeeb7",
   "metadata": {},
   "outputs": [
    {
     "data": {
      "text/plain": [
       "array([1., 3., 0., 2., 4., 2., 4., 3., 1., 2., 2., 2., 0., 4., 1., 4., 3.,\n",
       "       1., 4., 1., 2., 2., 2., 3., 2., 3., 1., 4., 4., 1., 3., 1., 0., 4.,\n",
       "       3., 4., 2., 3., 2., 0., 2., 4., 4., 3., 3., 4., 4., 0., 4., 1., 3.,\n",
       "       4., 4., 0., 1., 3., 4., 2., 0., 4., 0., 3., 4., 2., 4., 2., 1., 0.,\n",
       "       2., 4., 3., 1., 3., 3., 3., 0., 4., 4., 3., 0., 1., 4., 2., 1., 3.,\n",
       "       2., 4., 3., 0., 2., 1., 2., 2., 0., 4., 1., 4., 0., 2., 3., 2., 4.,\n",
       "       1., 4., 0., 2., 0., 0., 3., 1., 0., 1., 4., 3., 1., 1., 2., 1., 1.,\n",
       "       3., 4., 3., 1., 1., 3., 4., 0., 2., 1., 4., 0., 0., 4., 2., 4., 4.,\n",
       "       0., 2., 2., 0., 0., 0., 4., 1., 3., 1., 2., 2., 2., 4., 0., 1., 2.])"
      ]
     },
     "execution_count": 16,
     "metadata": {},
     "output_type": "execute_result"
    }
   ],
   "source": [
    "total_pred"
   ]
  },
  {
   "cell_type": "code",
   "execution_count": 17,
   "id": "0aef9db3",
   "metadata": {},
   "outputs": [
    {
     "data": {
      "text/html": [
       "<div>\n",
       "<style scoped>\n",
       "    .dataframe tbody tr th:only-of-type {\n",
       "        vertical-align: middle;\n",
       "    }\n",
       "\n",
       "    .dataframe tbody tr th {\n",
       "        vertical-align: top;\n",
       "    }\n",
       "\n",
       "    .dataframe thead th {\n",
       "        text-align: right;\n",
       "    }\n",
       "</style>\n",
       "<table border=\"1\" class=\"dataframe\">\n",
       "  <thead>\n",
       "    <tr style=\"text-align: right;\">\n",
       "      <th></th>\n",
       "      <th>id</th>\n",
       "      <th>label</th>\n",
       "    </tr>\n",
       "  </thead>\n",
       "  <tbody>\n",
       "    <tr>\n",
       "      <th>0</th>\n",
       "      <td>TEST_000</td>\n",
       "      <td>0</td>\n",
       "    </tr>\n",
       "    <tr>\n",
       "      <th>1</th>\n",
       "      <td>TEST_001</td>\n",
       "      <td>0</td>\n",
       "    </tr>\n",
       "    <tr>\n",
       "      <th>2</th>\n",
       "      <td>TEST_002</td>\n",
       "      <td>0</td>\n",
       "    </tr>\n",
       "    <tr>\n",
       "      <th>3</th>\n",
       "      <td>TEST_003</td>\n",
       "      <td>0</td>\n",
       "    </tr>\n",
       "    <tr>\n",
       "      <th>4</th>\n",
       "      <td>TEST_004</td>\n",
       "      <td>0</td>\n",
       "    </tr>\n",
       "    <tr>\n",
       "      <th>...</th>\n",
       "      <td>...</td>\n",
       "      <td>...</td>\n",
       "    </tr>\n",
       "    <tr>\n",
       "      <th>148</th>\n",
       "      <td>TEST_148</td>\n",
       "      <td>0</td>\n",
       "    </tr>\n",
       "    <tr>\n",
       "      <th>149</th>\n",
       "      <td>TEST_149</td>\n",
       "      <td>0</td>\n",
       "    </tr>\n",
       "    <tr>\n",
       "      <th>150</th>\n",
       "      <td>TEST_150</td>\n",
       "      <td>0</td>\n",
       "    </tr>\n",
       "    <tr>\n",
       "      <th>151</th>\n",
       "      <td>TEST_151</td>\n",
       "      <td>0</td>\n",
       "    </tr>\n",
       "    <tr>\n",
       "      <th>152</th>\n",
       "      <td>TEST_152</td>\n",
       "      <td>0</td>\n",
       "    </tr>\n",
       "  </tbody>\n",
       "</table>\n",
       "<p>153 rows × 2 columns</p>\n",
       "</div>"
      ],
      "text/plain": [
       "           id  label\n",
       "0    TEST_000      0\n",
       "1    TEST_001      0\n",
       "2    TEST_002      0\n",
       "3    TEST_003      0\n",
       "4    TEST_004      0\n",
       "..        ...    ...\n",
       "148  TEST_148      0\n",
       "149  TEST_149      0\n",
       "150  TEST_150      0\n",
       "151  TEST_151      0\n",
       "152  TEST_152      0\n",
       "\n",
       "[153 rows x 2 columns]"
      ]
     },
     "execution_count": 17,
     "metadata": {},
     "output_type": "execute_result"
    }
   ],
   "source": [
    "submit = pd.read_csv('./sample_submission.csv')\n",
    "submit"
   ]
  },
  {
   "cell_type": "code",
   "execution_count": 18,
   "id": "7f3c990c",
   "metadata": {},
   "outputs": [
    {
     "data": {
      "text/html": [
       "<div>\n",
       "<style scoped>\n",
       "    .dataframe tbody tr th:only-of-type {\n",
       "        vertical-align: middle;\n",
       "    }\n",
       "\n",
       "    .dataframe tbody tr th {\n",
       "        vertical-align: top;\n",
       "    }\n",
       "\n",
       "    .dataframe thead th {\n",
       "        text-align: right;\n",
       "    }\n",
       "</style>\n",
       "<table border=\"1\" class=\"dataframe\">\n",
       "  <thead>\n",
       "    <tr style=\"text-align: right;\">\n",
       "      <th></th>\n",
       "      <th>id</th>\n",
       "      <th>label</th>\n",
       "    </tr>\n",
       "  </thead>\n",
       "  <tbody>\n",
       "    <tr>\n",
       "      <th>0</th>\n",
       "      <td>TEST_000</td>\n",
       "      <td>1.0</td>\n",
       "    </tr>\n",
       "    <tr>\n",
       "      <th>1</th>\n",
       "      <td>TEST_001</td>\n",
       "      <td>3.0</td>\n",
       "    </tr>\n",
       "    <tr>\n",
       "      <th>2</th>\n",
       "      <td>TEST_002</td>\n",
       "      <td>0.0</td>\n",
       "    </tr>\n",
       "    <tr>\n",
       "      <th>3</th>\n",
       "      <td>TEST_003</td>\n",
       "      <td>2.0</td>\n",
       "    </tr>\n",
       "    <tr>\n",
       "      <th>4</th>\n",
       "      <td>TEST_004</td>\n",
       "      <td>4.0</td>\n",
       "    </tr>\n",
       "  </tbody>\n",
       "</table>\n",
       "</div>"
      ],
      "text/plain": [
       "         id  label\n",
       "0  TEST_000    1.0\n",
       "1  TEST_001    3.0\n",
       "2  TEST_002    0.0\n",
       "3  TEST_003    2.0\n",
       "4  TEST_004    4.0"
      ]
     },
     "execution_count": 18,
     "metadata": {},
     "output_type": "execute_result"
    }
   ],
   "source": [
    "submit['label'] = total_pred\n",
    "submit.head()"
   ]
  },
  {
   "cell_type": "code",
   "execution_count": 19,
   "id": "8fcbdd9b",
   "metadata": {},
   "outputs": [],
   "source": [
    "submit.to_csv('set_seed_slowfast_submit.csv', index=False)"
   ]
  }
 ],
 "metadata": {
  "kernelspec": {
   "display_name": "Python 3",
   "language": "python",
   "name": "python3"
  },
  "language_info": {
   "codemirror_mode": {
    "name": "ipython",
    "version": 3
   },
   "file_extension": ".py",
   "mimetype": "text/x-python",
   "name": "python",
   "nbconvert_exporter": "python",
   "pygments_lexer": "ipython3",
   "version": "3.7.9"
  },
  "vscode": {
   "interpreter": {
    "hash": "35502451668c3ac2340521757113e29c80834d93306857eb7dde50459f615095"
   }
  }
 },
 "nbformat": 4,
 "nbformat_minor": 5
}
